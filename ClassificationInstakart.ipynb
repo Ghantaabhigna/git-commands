{
 "cells": [
  {
   "cell_type": "code",
   "execution_count": 3,
   "metadata": {},
   "outputs": [],
   "source": [
    "#imports\n",
    "import pandas as pd #Python data analysis library\n",
    "import numpy as np #Python scientific computing\n",
    "import matplotlib.pyplot as plt #For plotting\n",
    "import matplotlib.mlab as mlab\n",
    "import seaborn as sns #Python visualization library\n",
    "from scipy.optimize import curve_fit\n",
    "from IPython.display import display, HTML\n",
    "\n",
    "#Plots inline\n",
    "%matplotlib inline"
   ]
  },
  {
   "cell_type": "code",
   "execution_count": 5,
   "metadata": {},
   "outputs": [],
   "source": [
    "#import dataset\n",
    "trainDf = pd.read_csv(\"desktop/data/raw/order_products__train.csv\")\n",
    "orderDf = pd.read_csv(\"desktop/data/raw/orders.csv\")\n",
    "depDf = pd.read_csv(\"desktop/data/raw/departments.csv\")\n",
    "aisleDf = pd.read_csv(\"desktop/data/raw/aisles.csv\")\n",
    "productDf = pd.read_csv(\"desktop/data/raw/products.csv\")"
   ]
  },
  {
   "cell_type": "code",
   "execution_count": 6,
   "metadata": {},
   "outputs": [
    {
     "data": {
      "text/plain": [
       "(3421083, 7)"
      ]
     },
     "execution_count": 6,
     "metadata": {},
     "output_type": "execute_result"
    }
   ],
   "source": [
    "orderDf.shape"
   ]
  },
  {
   "cell_type": "code",
   "execution_count": 7,
   "metadata": {},
   "outputs": [
    {
     "data": {
      "text/plain": [
       "(49688, 4)"
      ]
     },
     "execution_count": 7,
     "metadata": {},
     "output_type": "execute_result"
    }
   ],
   "source": [
    "productDf.shape"
   ]
  },
  {
   "cell_type": "code",
   "execution_count": 8,
   "metadata": {},
   "outputs": [
    {
     "name": "stderr",
     "output_type": "stream",
     "text": [
      "C:\\Users\\abhig\\Anaconda3\\lib\\site-packages\\matplotlib\\axes\\_axes.py:6521: MatplotlibDeprecationWarning: \n",
      "The 'normed' kwarg was deprecated in Matplotlib 2.1 and will be removed in 3.1. Use 'density' instead.\n",
      "  alternative=\"'density'\", removal=\"3.1\")\n"
     ]
    },
    {
     "data": {
      "image/png": "[encoded data removed]",
      "text/plain": [
       "<Figure size 432x288 with 1 Axes>"
      ]
     },
     "metadata": {},
     "output_type": "display_data"
    }
   ],
   "source": [
    "#get distribution of number of orders per customer\n",
    "sns.set_style('whitegrid')\n",
    "customerNumOrderFrame = orderDf.groupby(\"user_id\",as_index = False)[\"order_number\"].max()\n",
    "num_bins = 10\n",
    "n, bins, patches = plt.hist(customerNumOrderFrame[\"order_number\"] , num_bins, normed=1, color='blue', alpha=0.5)\n",
    "mu = customerNumOrderFrame[\"order_number\"].mean()\n",
    "sigma = customerNumOrderFrame[\"order_number\"].std()"
   ]
  },
  {
   "cell_type": "code",
   "execution_count": 9,
   "metadata": {},
   "outputs": [
    {
     "name": "stderr",
     "output_type": "stream",
     "text": [
      "C:\\Users\\abhig\\Anaconda3\\lib\\site-packages\\matplotlib\\axes\\_axes.py:6521: MatplotlibDeprecationWarning: \n",
      "The 'normed' kwarg was deprecated in Matplotlib 2.1 and will be removed in 3.1. Use 'density' instead.\n",
      "  alternative=\"'density'\", removal=\"3.1\")\n"
     ]
    },
    {
     "data": {
      "text/plain": [
       "Text(0.5, 1.0, 'Number of Orders per Customer Distribution')"
      ]
     },
     "execution_count": 9,
     "metadata": {},
     "output_type": "execute_result"
    },
    {
     "data": {
      "image/png": "[encoded data removed]",
      "text/plain": [
       "<Figure size 432x288 with 1 Axes>"
      ]
     },
     "metadata": {},
     "output_type": "display_data"
    }
   ],
   "source": [
    "n, bins, patches = plt.hist(customerNumOrderFrame[\"order_number\"] , num_bins, normed=1, facecolor='yellow', alpha=0.5)\n",
    "\n",
    "bins = np.delete(bins,10) #to make dimensions of x & y axis values equal\n",
    "bins = bins+5 #to ge the central value of each bar\n",
    "\n",
    "def exponenial_func(x, a, b, c):\n",
    "    return a*np.exp(-b*x)+c\n",
    "\n",
    "popt, pcov = curve_fit(exponenial_func, bins, n, p0=(1, 1e-6, 1))\n",
    "\n",
    "xx = np.linspace(8, 100, 30)\n",
    "yy = exponenial_func(xx, *popt)\n",
    "\n",
    "plt.plot(xx, yy ,'r--')\n",
    "plt.xlabel(\"No. of Orders\")\n",
    "plt.ylabel(\"Count\")\n",
    "plt.title(\"Number of Orders per Customer Distribution\")"
   ]
  },
  {
   "cell_type": "code",
   "execution_count": 11,
   "metadata": {},
   "outputs": [],
   "source": [
    "priorDf = pd.read_csv(\"desktop/data/raw/order_products__prior.csv\")\n",
    "trainDf = trainDf.append(priorDf,ignore_index = True)\n",
    "#Now a product count data frame can be created by counting the order_id for each product_id\n",
    "productCountDf = trainDf.groupby(\"product_id\",as_index = False)[\"order_id\"].count()"
   ]
  },
  {
   "cell_type": "code",
   "execution_count": 13,
   "metadata": {},
   "outputs": [
    {
     "data": {
      "text/plain": [
       "(49685, 2)"
      ]
     },
     "execution_count": 13,
     "metadata": {},
     "output_type": "execute_result"
    }
   ],
   "source": [
    "productCountDf.shape"
   ]
  },
  {
   "cell_type": "code",
   "execution_count": 14,
   "metadata": {},
   "outputs": [
    {
     "data": {
      "text/html": [
       "<div>\n",
       "<style scoped>\n",
       "    .dataframe tbody tr th:only-of-type {\n",
       "        vertical-align: middle;\n",
       "    }\n",
       "\n",
       "    .dataframe tbody tr th {\n",
       "        vertical-align: top;\n",
       "    }\n",
       "\n",
       "    .dataframe thead th {\n",
       "        text-align: right;\n",
       "    }\n",
       "</style>\n",
       "<table border=\"1\" class=\"dataframe\">\n",
       "  <thead>\n",
       "    <tr style=\"text-align: right;\">\n",
       "      <th></th>\n",
       "      <th>product_name</th>\n",
       "    </tr>\n",
       "  </thead>\n",
       "  <tbody>\n",
       "    <tr>\n",
       "      <th>0</th>\n",
       "      <td>Banana</td>\n",
       "    </tr>\n",
       "    <tr>\n",
       "      <th>1</th>\n",
       "      <td>Bag of Organic Bananas</td>\n",
       "    </tr>\n",
       "    <tr>\n",
       "      <th>2</th>\n",
       "      <td>Organic Strawberries</td>\n",
       "    </tr>\n",
       "    <tr>\n",
       "      <th>3</th>\n",
       "      <td>Organic Baby Spinach</td>\n",
       "    </tr>\n",
       "    <tr>\n",
       "      <th>4</th>\n",
       "      <td>Organic Hass Avocado</td>\n",
       "    </tr>\n",
       "    <tr>\n",
       "      <th>5</th>\n",
       "      <td>Organic Avocado</td>\n",
       "    </tr>\n",
       "    <tr>\n",
       "      <th>6</th>\n",
       "      <td>Large Lemon</td>\n",
       "    </tr>\n",
       "    <tr>\n",
       "      <th>7</th>\n",
       "      <td>Strawberries</td>\n",
       "    </tr>\n",
       "    <tr>\n",
       "      <th>8</th>\n",
       "      <td>Limes</td>\n",
       "    </tr>\n",
       "    <tr>\n",
       "      <th>9</th>\n",
       "      <td>Organic Whole Milk</td>\n",
       "    </tr>\n",
       "    <tr>\n",
       "      <th>10</th>\n",
       "      <td>Organic Raspberries</td>\n",
       "    </tr>\n",
       "    <tr>\n",
       "      <th>11</th>\n",
       "      <td>Organic Yellow Onion</td>\n",
       "    </tr>\n",
       "    <tr>\n",
       "      <th>12</th>\n",
       "      <td>Organic Garlic</td>\n",
       "    </tr>\n",
       "    <tr>\n",
       "      <th>13</th>\n",
       "      <td>Organic Zucchini</td>\n",
       "    </tr>\n",
       "    <tr>\n",
       "      <th>14</th>\n",
       "      <td>Organic Blueberries</td>\n",
       "    </tr>\n",
       "    <tr>\n",
       "      <th>15</th>\n",
       "      <td>Cucumber Kirby</td>\n",
       "    </tr>\n",
       "    <tr>\n",
       "      <th>16</th>\n",
       "      <td>Organic Fuji Apple</td>\n",
       "    </tr>\n",
       "    <tr>\n",
       "      <th>17</th>\n",
       "      <td>Organic Lemon</td>\n",
       "    </tr>\n",
       "    <tr>\n",
       "      <th>18</th>\n",
       "      <td>Organic Grape Tomatoes</td>\n",
       "    </tr>\n",
       "    <tr>\n",
       "      <th>19</th>\n",
       "      <td>Apple Honeycrisp Organic</td>\n",
       "    </tr>\n",
       "  </tbody>\n",
       "</table>\n",
       "</div>"
      ],
      "text/plain": [
       "                product_name\n",
       "0                     Banana\n",
       "1     Bag of Organic Bananas\n",
       "2       Organic Strawberries\n",
       "3       Organic Baby Spinach\n",
       "4       Organic Hass Avocado\n",
       "5            Organic Avocado\n",
       "6                Large Lemon\n",
       "7               Strawberries\n",
       "8                      Limes\n",
       "9         Organic Whole Milk\n",
       "10       Organic Raspberries\n",
       "11      Organic Yellow Onion\n",
       "12            Organic Garlic\n",
       "13          Organic Zucchini\n",
       "14       Organic Blueberries\n",
       "15            Cucumber Kirby\n",
       "16        Organic Fuji Apple\n",
       "17             Organic Lemon\n",
       "18    Organic Grape Tomatoes\n",
       "19  Apple Honeycrisp Organic"
      ]
     },
     "metadata": {},
     "output_type": "display_data"
    }
   ],
   "source": [
    "#Top 20 most frequently purchased products\n",
    "topLev = 20\n",
    "\n",
    "#Here order_id is the count so we need to sort the data frame w.r.t order_id\n",
    "productCountDf = productCountDf.sort_values(\"order_id\",ascending = False)\n",
    "\n",
    "topProdFrame = productCountDf.iloc[0:topLev,:]\n",
    "topProdFrame = topProdFrame.merge(productDf,on = \"product_id\")\n",
    "\n",
    "display(topProdFrame.loc[:,[\"product_name\"]])"
   ]
  },
  {
   "cell_type": "code",
   "execution_count": 15,
   "metadata": {},
   "outputs": [
    {
     "data": {
      "text/plain": [
       "Text(0, 0.5, 'Density')"
      ]
     },
     "execution_count": 15,
     "metadata": {},
     "output_type": "execute_result"
    },
    {
     "data": {
      "image/png": "[encoded data removed]",
      "text/plain": [
       "<Figure size 432x288 with 1 Axes>"
      ]
     },
     "metadata": {},
     "output_type": "display_data"
    }
   ],
   "source": [
    "#Calculate the density\n",
    "productCountDf[\"density\"] = (productCountDf[\"order_id\"]/np.sum(productCountDf[\"order_id\"]))\n",
    "#Calculate the rank\n",
    "productCountDf[\"rank\"] = range(productCountDf.shape[0])\n",
    "plt.plot(productCountDf[\"rank\"],productCountDf[\"density\"])\n",
    "plt.title(\"Density Plot for product counts\")\n",
    "plt.xlabel(\"Rank\")\n",
    "plt.ylabel(\"Density\")"
   ]
  },
  {
   "cell_type": "code",
   "execution_count": 16,
   "metadata": {},
   "outputs": [
    {
     "data": {
      "text/plain": [
       "[<matplotlib.lines.Line2D at 0x12f48b8be10>]"
      ]
     },
     "execution_count": 16,
     "metadata": {},
     "output_type": "execute_result"
    },
    {
     "data": {
      "image/png": "[encoded data removed]",
      "text/plain": [
       "<Figure size 432x288 with 1 Axes>"
      ]
     },
     "metadata": {},
     "output_type": "display_data"
    }
   ],
   "source": [
    "#Calculate log(Rank) also we add 1 to avoid log(0)\n",
    "productCountDf[\"logRank\"] = np.log(productCountDf[\"rank\"] + 1) \n",
    "plt.title(\"Density Plot for product counts\")\n",
    "plt.xlabel(\"$\\log(Rank)$\")\n",
    "plt.ylabel(\"Density\")\n",
    "plt.plot(productCountDf[\"logRank\"],productCountDf[\"density\"])"
   ]
  },
  {
   "cell_type": "code",
   "execution_count": 17,
   "metadata": {},
   "outputs": [
    {
     "data": {
      "image/png": "[encoded data removed]",
      "text/plain": [
       "<Figure size 432x288 with 1 Axes>"
      ]
     },
     "metadata": {},
     "output_type": "display_data"
    }
   ],
   "source": [
    "grouped = orderDf.groupby(\"order_id\")[\"order_dow\"].aggregate(\"sum\").reset_index()\n",
    "grouped = grouped.order_dow.value_counts()\n",
    "\n",
    "sns.barplot(grouped.index, grouped.values)\n",
    "plt.ylabel('Number of orders', fontsize=13)\n",
    "plt.xlabel('Days of order in a week', fontsize=13)\n",
    "plt.show()"
   ]
  },
  {
   "cell_type": "code",
   "execution_count": null,
   "metadata": {},
   "outputs": [],
   "source": []
  }
 ],
 "metadata": {
  "kernelspec": {
   "display_name": "Python 3",
   "language": "python",
   "name": "python3"
  },
  "language_info": {
   "codemirror_mode": {
    "name": "ipython",
    "version": 3
   },
   "file_extension": ".py",
   "mimetype": "text/x-python",
   "name": "python",
   "nbconvert_exporter": "python",
   "pygments_lexer": "ipython3",
   "version": "3.7.1"
  }
 },
 "nbformat": 4,
 "nbformat_minor": 2
}
